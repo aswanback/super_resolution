{
 "cells": [
  {
   "cell_type": "code",
   "execution_count": null,
   "metadata": {},
   "outputs": [],
   "source": [
    "import torch\n",
    "import time\n",
    "from datasets import load_dataset\n",
    "from dataset import TrainDataset, EvalDataset\n",
    "from model import SimpleSR\n",
    "from train import Trainer\n",
    "\n",
    "device = torch.device('cuda' if torch.cuda.is_available else 'cpu')\n",
    "print(device)\n",
    "\n",
    "init_time = time.time()\n",
    "\n",
    "train_dataset = TrainDataset(load_dataset('eugenesiow/Div2k', 'bicubic_x2', split='train'))\n",
    "test_dataset = EvalDataset(load_dataset('eugenesiow/Div2k', 'bicubic_x2', split='validation'))\n",
    "\n",
    "ssr = SimpleSR(ch_in=3,upsample_factor=2,n_blocks=5)\n",
    "ssr = ssr.to(device)\n",
    "\n",
    "base_folder = './drive/MyDrive/Purdue/S7/Project/'\n",
    "i = 0\n",
    "state_dict = base_folder + f'weights{i}.pt'\n",
    "weights_name = base_folder + f'weights{i+1}.pt'\n",
    "trainer = Trainer(ssr,train_dataset,test_dataset,epochs=2,batch_size=64,weights_name=weights_name,state_dict_file=state_dict)\n",
    "\n",
    "time1 = time.time()\n",
    "trainer.train()\n",
    "time2 = time.time()\n",
    "print(f'Setup time: {time1-init_time}\\nRun time: {time2 - time1}')\n",
    "\n"
   ]
  }
 ],
 "metadata": {
  "kernelspec": {
   "display_name": "Python 3.10.6 ('srgan')",
   "language": "python",
   "name": "python3"
  },
  "language_info": {
   "name": "python",
   "version": "3.10.6"
  },
  "orig_nbformat": 4,
  "vscode": {
   "interpreter": {
    "hash": "84d3226e8907292fd2e28f6e377854f102a3692ff0b569656485cfbe6e6a18d3"
   }
  }
 },
 "nbformat": 4,
 "nbformat_minor": 2
}
